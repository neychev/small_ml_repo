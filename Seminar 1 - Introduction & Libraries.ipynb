{
 "cells": [
  {
   "cell_type": "code",
   "execution_count": null,
   "metadata": {
    "collapsed": true
   },
   "outputs": [],
   "source": [
    "import numpy as np\n",
    "import pandas as pd\n",
    "import matplotlib.pyplot as plt"
   ]
  },
  {
   "cell_type": "markdown",
   "metadata": {},
   "source": [
    "## План\n",
    "\n",
    "- Numpy\n",
    "  - Базовые операции с массивами\n",
    "  - Индексация массивов\n",
    "- Scipy \n",
    "  - Математические функции\n",
    "  - Оптимизация функций\n",
    "- Чтение и запись данных\n",
    "- Визуализация данных"
   ]
  },
  {
   "cell_type": "markdown",
   "metadata": {},
   "source": [
    "## 1. Lists & numpy "
   ]
  },
  {
   "cell_type": "code",
   "execution_count": null,
   "metadata": {
    "collapsed": false
   },
   "outputs": [],
   "source": [
    "# create one dimensional numpy array\n",
    "np.array([1, 2, 3])"
   ]
  },
  {
   "cell_type": "code",
   "execution_count": null,
   "metadata": {
    "collapsed": false
   },
   "outputs": [],
   "source": [
    "# Array of zeros\n",
    "np.zeros(3)"
   ]
  },
  {
   "cell_type": "code",
   "execution_count": null,
   "metadata": {
    "collapsed": false
   },
   "outputs": [],
   "source": [
    "# Array of 1s\n",
    "np.ones(3)"
   ]
  },
  {
   "cell_type": "code",
   "execution_count": null,
   "metadata": {
    "collapsed": false
   },
   "outputs": [],
   "source": [
    "# array of 3 random integers between 1 and 10\n",
    "np.random.randint(1,10, 3)"
   ]
  },
  {
   "cell_type": "code",
   "execution_count": null,
   "metadata": {
    "collapsed": false
   },
   "outputs": [],
   "source": [
    "# create linearly spaced array. \n",
    "np.linspace(0, 10, 5 )"
   ]
  },
  {
   "cell_type": "code",
   "execution_count": null,
   "metadata": {
    "collapsed": false
   },
   "outputs": [],
   "source": [
    "# create 2-Dimensional array\n",
    "np.array([[1,2,3],\n",
    "         [4,5,6],\n",
    "         [7,8,9]])"
   ]
  },
  {
   "cell_type": "code",
   "execution_count": null,
   "metadata": {
    "collapsed": false
   },
   "outputs": [],
   "source": [
    "# create 1D and 2D arrays a and b\n",
    "a = np.array([1,2,3])\n",
    "b = np.random.randint(0,10, (3,3))\n",
    "\n",
    "print(a)\n",
    "print(b)"
   ]
  },
  {
   "cell_type": "code",
   "execution_count": null,
   "metadata": {
    "collapsed": false
   },
   "outputs": [],
   "source": [
    "# print the shape and dimension of arrays\n",
    "print(\"Shape of a:\", np.shape(a))\n",
    "print(\"Shape of b:\", np.shape(b))\n",
    "\n",
    "print('Dimension of a:', np.ndim(a))\n",
    "print('Dimension of b:', np.ndim(b))"
   ]
  },
  {
   "cell_type": "code",
   "execution_count": null,
   "metadata": {
    "collapsed": false
   },
   "outputs": [],
   "source": [
    "for n_points in [500, 5000, 50000, 50000]:\n",
    "    plt.figure()\n",
    "    plt.hist(np.random.uniform(0, 1, n_points),\n",
    "             bins=50)\n",
    "    plt.title('{} points generated'.format(n_points))"
   ]
  },
  {
   "cell_type": "markdown",
   "metadata": {},
   "source": [
    "### 2.1 Индексация\n"
   ]
  },
  {
   "cell_type": "code",
   "execution_count": null,
   "metadata": {
    "collapsed": false
   },
   "outputs": [],
   "source": [
    "a"
   ]
  },
  {
   "cell_type": "code",
   "execution_count": null,
   "metadata": {
    "collapsed": false
   },
   "outputs": [],
   "source": [
    "# get the first element of a \n",
    "# these 2 print statements results the same\n",
    "print(a[0])\n",
    "print(a[-3])"
   ]
  },
  {
   "cell_type": "code",
   "execution_count": null,
   "metadata": {
    "collapsed": false
   },
   "outputs": [],
   "source": [
    "b"
   ]
  },
  {
   "cell_type": "code",
   "execution_count": null,
   "metadata": {
    "collapsed": false
   },
   "outputs": [],
   "source": [
    "# get the first row of b\n",
    "# these 2 print statements results the same\n",
    "print(b[0]) \n",
    "print(b[0,:])"
   ]
  },
  {
   "cell_type": "code",
   "execution_count": null,
   "metadata": {
    "collapsed": false
   },
   "outputs": [],
   "source": [
    "# Выведите последний столбец массива b\n",
    "print(b[:, -1])"
   ]
  },
  {
   "cell_type": "code",
   "execution_count": null,
   "metadata": {
    "collapsed": false
   },
   "outputs": [],
   "source": [
    "# create an array integer from 1 to 10\n",
    "X = np.arange(1, 11, dtype=int)\n",
    "X"
   ]
  },
  {
   "cell_type": "code",
   "execution_count": null,
   "metadata": {
    "collapsed": false
   },
   "outputs": [],
   "source": [
    "# get the number 3,4 and 5 \n",
    "X[2:5]"
   ]
  },
  {
   "cell_type": "code",
   "execution_count": null,
   "metadata": {
    "collapsed": false
   },
   "outputs": [],
   "source": [
    "# Выведем каждый элемент с четным индексом\n",
    "X[::2]"
   ]
  },
  {
   "cell_type": "code",
   "execution_count": null,
   "metadata": {
    "collapsed": false
   },
   "outputs": [],
   "source": [
    "# Развернем X\n",
    "X[::-1]"
   ]
  },
  {
   "cell_type": "code",
   "execution_count": null,
   "metadata": {
    "collapsed": false
   },
   "outputs": [],
   "source": [
    "# Выведите shape подмассива b без последнего столбца (т.е. массива из первых двух колонок b)\n",
    "print(<implement_me>)"
   ]
  },
  {
   "cell_type": "code",
   "execution_count": null,
   "metadata": {
    "collapsed": false
   },
   "outputs": [],
   "source": [
    "# Выведите каждый элемент развернутого X c индексом кратным трем\n",
    "print(<implement_me>)"
   ]
  },
  {
   "cell_type": "markdown",
   "metadata": {},
   "source": [
    "## 3. SciPy, Matplotlib"
   ]
  },
  {
   "cell_type": "code",
   "execution_count": 99,
   "metadata": {
    "collapsed": false
   },
   "outputs": [
    {
     "name": "stdout",
     "output_type": "stream",
     "text": [
      "[[0 1]\n",
      " [1 0]\n",
      " [2 0]]\n",
      "[[0.         1.41421356 2.23606798]\n",
      " [1.41421356 0.         1.        ]\n",
      " [2.23606798 1.         0.        ]]\n"
     ]
    }
   ],
   "source": [
    "from scipy.spatial.distance import pdist\n",
    "from scipy.spatial.distance import squareform\n",
    "\n",
    "x = np.array([[0, 1], [1, 0], [2, 0]])\n",
    "print(x)\n",
    "\n",
    "d = squareform(pdist(x, 'euclidean'))\n",
    "print(d)"
   ]
  },
  {
   "cell_type": "code",
   "execution_count": null,
   "metadata": {
    "collapsed": false
   },
   "outputs": [],
   "source": [
    "# График sin(x)\n",
    "x = np.arange(0, 3 * np.pi, 0.1)\n",
    "y = np.sin(x)\n",
    "\n",
    "plt.plot(x, y)\n",
    "plt.show()"
   ]
  },
  {
   "cell_type": "code",
   "execution_count": null,
   "metadata": {
    "collapsed": false
   },
   "outputs": [],
   "source": [
    "x = np.arange(0, 3 * np.pi, 0.1)\n",
    "y_sin = np.sin(x)\n",
    "y_cos = np.cos(x)\n",
    "\n",
    "plt.plot(x, y_sin)\n",
    "plt.plot(x, y_cos)\n",
    "plt.xlabel('x axis label')\n",
    "plt.ylabel('y axis label')\n",
    "plt.title('Sine and Cosine')\n",
    "plt.legend(['Sine', 'Cosine'])\n",
    "plt.show()"
   ]
  },
  {
   "cell_type": "code",
   "execution_count": null,
   "metadata": {
    "collapsed": false
   },
   "outputs": [],
   "source": [
    "# Постройте график функции x**2\n",
    "<implement_me>"
   ]
  },
  {
   "cell_type": "markdown",
   "metadata": {},
   "source": [
    "### 2.2 Функции"
   ]
  },
  {
   "cell_type": "code",
   "execution_count": null,
   "metadata": {
    "collapsed": false
   },
   "outputs": [],
   "source": [
    "#find the maximum element of X\n",
    "np.max(X)"
   ]
  },
  {
   "cell_type": "code",
   "execution_count": null,
   "metadata": {
    "collapsed": false
   },
   "outputs": [],
   "source": [
    "#mean of values in the X\n",
    "np.mean(X)"
   ]
  },
  {
   "cell_type": "code",
   "execution_count": null,
   "metadata": {
    "collapsed": false
   },
   "outputs": [],
   "source": [
    "# get the 4th power of each value\n",
    "np.power(X, 4)"
   ]
  },
  {
   "cell_type": "code",
   "execution_count": null,
   "metadata": {
    "collapsed": false
   },
   "outputs": [],
   "source": [
    "# trigonometric functions \n",
    "print(np.sin(X))\n",
    "print(np.tan(X))"
   ]
  },
  {
   "cell_type": "code",
   "execution_count": null,
   "metadata": {
    "collapsed": false
   },
   "outputs": [],
   "source": [
    "Y= np.arange(1,10).reshape(3,3)\n",
    "Y"
   ]
  },
  {
   "cell_type": "code",
   "execution_count": null,
   "metadata": {
    "collapsed": false
   },
   "outputs": [],
   "source": [
    "# Поэлементное умножение\n",
    "np.multiply(Y, 2)"
   ]
  },
  {
   "cell_type": "code",
   "execution_count": null,
   "metadata": {
    "collapsed": false
   },
   "outputs": [],
   "source": [
    "# То же самое\n",
    "Y * 2"
   ]
  },
  {
   "cell_type": "code",
   "execution_count": null,
   "metadata": {
    "collapsed": false
   },
   "outputs": [],
   "source": [
    "# Транспонирование\n",
    "Y.T"
   ]
  },
  {
   "cell_type": "markdown",
   "metadata": {},
   "source": [
    "[Математические функций](https://docs.scipy.org/doc/numpy-1.13.0/reference/routines.math.html) <br>\n",
    "[Статистические функции](https://docs.scipy.org/doc/numpy-1.13.0/reference/routines.statistics.html)"
   ]
  },
  {
   "cell_type": "code",
   "execution_count": null,
   "metadata": {
    "collapsed": false
   },
   "outputs": [],
   "source": [
    "# Минимизация функции\n",
    "from scipy.optimize import minimize\n",
    "\n",
    "func = lambda x: x**2-x\n",
    "x0 = 3\n",
    "res = minimize(func, x0, method='Nelder-Mead', tol=1e-6)\n",
    "print(res.x)\n",
    "print(func(res.x))"
   ]
  },
  {
   "cell_type": "code",
   "execution_count": null,
   "metadata": {
    "collapsed": false
   },
   "outputs": [],
   "source": [
    "# Найдите минимум функции x^4 - 6x + 1"
   ]
  },
  {
   "cell_type": "markdown",
   "metadata": {},
   "source": [
    "## Чтение и запись данных"
   ]
  },
  {
   "cell_type": "code",
   "execution_count": null,
   "metadata": {
    "collapsed": false
   },
   "outputs": [],
   "source": [
    "data = np.random.rand(10, 3)"
   ]
  },
  {
   "cell_type": "code",
   "execution_count": null,
   "metadata": {
    "collapsed": true
   },
   "outputs": [],
   "source": [
    "np.savetxt('my_dataset.txt', data)"
   ]
  },
  {
   "cell_type": "code",
   "execution_count": null,
   "metadata": {
    "collapsed": false
   },
   "outputs": [],
   "source": [
    "!head my_dataset.txt"
   ]
  },
  {
   "cell_type": "code",
   "execution_count": null,
   "metadata": {
    "collapsed": false
   },
   "outputs": [],
   "source": [
    "np.savetxt('my_dataset.txt', data, fmt=\"%.3f\")"
   ]
  },
  {
   "cell_type": "code",
   "execution_count": null,
   "metadata": {
    "collapsed": false
   },
   "outputs": [],
   "source": [
    "!head my_dataset.txt"
   ]
  },
  {
   "cell_type": "markdown",
   "metadata": {},
   "source": [
    "[Справка по флагам для перевода чисел в строки](https://docs.python.org/2/library/stdtypes.html#string-formatting)"
   ]
  },
  {
   "cell_type": "markdown",
   "metadata": {},
   "source": [
    "### pandas.read_csv\n",
    "\n",
    "Parameters:\t\n",
    "- `filepath_or_buffer` : str\n",
    "- `sep` : str, default ‘,’\n",
    "- `delimiter` : str, default None\n",
    "- `header` : int or list of ints, default ‘infer’\n",
    "- `usecols` : list-like or callable, default None\n",
    "- `skiprows` : list-like or integer or callable, default None\n",
    "- `nrows` : int, default None"
   ]
  },
  {
   "cell_type": "code",
   "execution_count": 41,
   "metadata": {
    "collapsed": true
   },
   "outputs": [],
   "source": [
    "data_pd = pd.read_csv('my_dataset.txt', sep=' ', header=None)\n",
    "data_np = np.genfromtxt('my_dataset.txt')"
   ]
  },
  {
   "cell_type": "code",
   "execution_count": 47,
   "metadata": {
    "collapsed": true
   },
   "outputs": [],
   "source": [
    "# Сохраним данные в test_data_2.csv через |\n",
    "data_pd.to_csv('my_dataset_2.csv', sep='|', index=False)"
   ]
  },
  {
   "cell_type": "code",
   "execution_count": 48,
   "metadata": {
    "collapsed": false
   },
   "outputs": [],
   "source": [
    "# Прочитайте данные test_data_2.csv с помощью pandas\n",
    "my_read_data = <implement_me>"
   ]
  },
  {
   "cell_type": "markdown",
   "metadata": {},
   "source": [
    "### Визуализация"
   ]
  },
  {
   "cell_type": "code",
   "execution_count": 40,
   "metadata": {
    "collapsed": true
   },
   "outputs": [],
   "source": [
    "import matplotlib.pyplot as plt\n",
    "import seaborn as sns\n",
    "\n",
    "%matplotlib inline"
   ]
  },
  {
   "cell_type": "code",
   "execution_count": 60,
   "metadata": {
    "collapsed": false,
    "scrolled": true
   },
   "outputs": [
    {
     "data": {
      "text/plain": [
       "array([[0.51749476, 0.5485606 , 0.92341745, 0.36234332, 0.68494194,\n",
       "        0.74191382, 0.98877303, 0.76354597, 0.15000102, 0.63951163],\n",
       "       [0.40345579, 0.39409172, 0.42986787, 0.33732237, 0.28254094,\n",
       "        0.50712836, 0.6330929 , 0.14126951, 0.66172352, 0.21580323],\n",
       "       [0.09095404, 0.9605148 , 0.46575615, 0.15649543, 0.39343845,\n",
       "        0.64129053, 0.40499833, 0.4926991 , 0.51798881, 0.60629784],\n",
       "       [0.62249901, 0.7632034 , 0.73188423, 0.37857301, 0.41037292,\n",
       "        0.41671015, 0.13489616, 0.92186752, 0.23535313, 0.45597924],\n",
       "       [0.98803065, 0.27423859, 0.45769426, 0.9581746 , 0.18282938,\n",
       "        0.98011109, 0.23086502, 0.40823703, 0.59425406, 0.00471371],\n",
       "       [0.63911994, 0.99320383, 0.76544208, 0.41010375, 0.79287666,\n",
       "        0.24902054, 0.48771975, 0.88893887, 0.42370493, 0.45243181],\n",
       "       [0.04216784, 0.36504818, 0.0749286 , 0.30230058, 0.4536838 ,\n",
       "        0.18823499, 0.06809578, 0.38614135, 0.47122302, 0.75500949],\n",
       "       [0.13351853, 0.04121265, 0.15605141, 0.89528095, 0.85115307,\n",
       "        0.17832009, 0.5705991 , 0.24834919, 0.376392  , 0.79800008],\n",
       "       [0.67756497, 0.62215698, 0.68470385, 0.75413237, 0.6169859 ,\n",
       "        0.87685369, 0.57084594, 0.43332462, 0.2611523 , 0.24123404],\n",
       "       [0.19021077, 0.13262892, 0.59935598, 0.34711675, 0.20547423,\n",
       "        0.79634832, 0.97651142, 0.98422515, 0.40409761, 0.9206995 ]])"
      ]
     },
     "execution_count": 60,
     "metadata": {},
     "output_type": "execute_result"
    }
   ],
   "source": [
    "data = np.random.rand(10, 10)\n",
    "big_data = np.concatenate([np.random.randn(10000), np.random.randn(10000) + 3])\n",
    "data"
   ]
  },
  {
   "cell_type": "markdown",
   "metadata": {},
   "source": [
    "### seaborn.distplot\n",
    "\n",
    "Parameters:\t\n",
    "- `a` : Series, 1d-array, or list.\n",
    "- `bins` : int, or None, optional\n",
    "- `hist` : bool, optional\n",
    "- `kde` : bool, optional"
   ]
  },
  {
   "cell_type": "code",
   "execution_count": 114,
   "metadata": {
    "collapsed": false,
    "scrolled": true
   },
   "outputs": [
    {
     "data": {
      "text/plain": [
       "<matplotlib.axes._subplots.AxesSubplot at 0x191cb590>"
      ]
     },
     "execution_count": 114,
     "metadata": {},
     "output_type": "execute_result"
    },
    {
     "data": {
      "image/png": "[encoded data removed]",
      "text/plain": [
       "<matplotlib.figure.Figure at 0x191cb250>"
      ]
     },
     "metadata": {},
     "output_type": "display_data"
    }
   ],
   "source": [
    "sns.distplot(big_data)"
   ]
  },
  {
   "cell_type": "markdown",
   "metadata": {},
   "source": [
    "### seaborn.regplot\n",
    "\n",
    "Parameters:\n",
    "- `x, y`: string, series, or vector array\n",
    "- `data` : DataFrame\n",
    "- `fit_reg` : bool, optional"
   ]
  },
  {
   "cell_type": "code",
   "execution_count": 96,
   "metadata": {
    "collapsed": false
   },
   "outputs": [
    {
     "data": {
      "text/plain": [
       "<matplotlib.axes._subplots.AxesSubplot at 0x19c6cd50>"
      ]
     },
     "execution_count": 96,
     "metadata": {},
     "output_type": "execute_result"
    },
    {
     "data": {
      "image/png": "[encoded data removed]",
      "text/plain": [
       "<matplotlib.figure.Figure at 0x19c4cb30>"
      ]
     },
     "metadata": {},
     "output_type": "display_data"
    }
   ],
   "source": [
    "from sklearn.datasets import make_regression\n",
    "\n",
    "x, y = make_regression(n_samples=100, n_features=1, bias=5, noise=10, random_state=10)\n",
    "\n",
    "sns.regplot(x, y)"
   ]
  },
  {
   "cell_type": "markdown",
   "metadata": {},
   "source": [
    "### seaborn.heatmap\n",
    "\n",
    "Parameters:\t\n",
    "- `data` : rectangular dataset\n",
    "- `annot` : bool or rectangular dataset, optional\n",
    "- `fmt` : string, optional"
   ]
  },
  {
   "cell_type": "code",
   "execution_count": 104,
   "metadata": {
    "collapsed": false
   },
   "outputs": [
    {
     "data": {
      "text/plain": [
       "<matplotlib.axes._subplots.AxesSubplot at 0x1a05f3d0>"
      ]
     },
     "execution_count": 104,
     "metadata": {},
     "output_type": "execute_result"
    },
    {
     "data": {
      "image/png": "[encoded data removed]",
      "text/plain": [
       "<matplotlib.figure.Figure at 0x1a0bcb50>"
      ]
     },
     "metadata": {},
     "output_type": "display_data"
    }
   ],
   "source": [
    "distance_matrix = squareform(pdist(data, 'euclidean'))\n",
    "plt.figure(figsize=(8, 6))\n",
    "sns.heatmap(distance_matrix)"
   ]
  },
  {
   "cell_type": "markdown",
   "metadata": {},
   "source": [
    "### seaborn.barplot\n",
    "\n",
    "Parameters:\t\n",
    "- `x, y, hue` : names of variables in data or vector data, optional\n",
    "- `data` : DataFrame, array, or list of arrays, optional\n",
    "- `estimator` : callable that maps vector -> scalar, optional\n",
    "- `ci` : float or “sd” or None, optional\n",
    "- `orient` : “v” | “h”, optional"
   ]
  },
  {
   "cell_type": "code",
   "execution_count": 106,
   "metadata": {
    "collapsed": false
   },
   "outputs": [
    {
     "data": {
      "text/plain": [
       "<matplotlib.axes._subplots.AxesSubplot at 0x1ac76eb0>"
      ]
     },
     "execution_count": 106,
     "metadata": {},
     "output_type": "execute_result"
    },
    {
     "data": {
      "image/png": "[encoded data removed]",
      "text/plain": [
       "<matplotlib.figure.Figure at 0x1a18ce70>"
      ]
     },
     "metadata": {},
     "output_type": "display_data"
    }
   ],
   "source": [
    "tips = sns.load_dataset(\"tips\")\n",
    "sns.barplot(x=\"day\", y=\"total_bill\", data=tips)"
   ]
  },
  {
   "cell_type": "markdown",
   "metadata": {},
   "source": [
    "### seaborn.stripplot\n",
    "\n",
    "Parameters:\t\n",
    "- `x, y, hue` : names of variables in data or vector data, optional\n",
    "- `data` : DataFrame, array, or list of arrays, optional\n",
    "- `jitter` : float, True/1 is special-cased, optional\n",
    "- `orient` : “v” | “h”, optional"
   ]
  },
  {
   "cell_type": "code",
   "execution_count": 108,
   "metadata": {
    "collapsed": false
   },
   "outputs": [
    {
     "data": {
      "text/plain": [
       "<matplotlib.axes._subplots.AxesSubplot at 0x1a1a1ed0>"
      ]
     },
     "execution_count": 108,
     "metadata": {},
     "output_type": "execute_result"
    },
    {
     "data": {
      "image/png": "[encoded data removed]",
      "text/plain": [
       "<matplotlib.figure.Figure at 0x1ac9f7d0>"
      ]
     },
     "metadata": {},
     "output_type": "display_data"
    }
   ],
   "source": [
    "sns.stripplot(x=\"day\", y=\"total_bill\", data=tips, jitter=True)"
   ]
  },
  {
   "cell_type": "markdown",
   "metadata": {},
   "source": [
    "## Рекомендации\n",
    "\n",
    "- Numpy для работы с матричными данными, различных арифметических операций\n",
    "- Scipy для более продвинутых методов - оптимизация, статистические функции\n",
    "- Matplotlib, Seaborn для визуализации"
   ]
  },
  {
   "cell_type": "markdown",
   "metadata": {},
   "source": [
    "## Резюме\n",
    "\n",
    "- Базовые операции с данными в Numpy\n",
    "- Построение графиков функций с Matplotlib\n",
    "- Оптимизация функций с помощью scipy\n",
    "- Визуализация данных с помощью Seaborn"
   ]
  }
 ],
 "metadata": {
  "kernelspec": {
   "display_name": "Python 3",
   "language": "python",
   "name": "python3"
  },
  "language_info": {
   "codemirror_mode": {
    "name": "ipython",
    "version": 3
   },
   "file_extension": ".py",
   "mimetype": "text/x-python",
   "name": "python",
   "nbconvert_exporter": "python",
   "pygments_lexer": "ipython3",
   "version": "3.6.4"
  }
 },
 "nbformat": 4,
 "nbformat_minor": 2
}
