{
 "cells": [
  {
   "cell_type": "code",
   "execution_count": 1,
   "metadata": {
    "collapsed": true
   },
   "outputs": [],
   "source": [
    "import pandas as pd\n",
    "import numpy as np\n",
    "import seaborn as sns\n",
    "import matplotlib.pyplot as plt\n",
    "%matplotlib inline"
   ]
  },
  {
   "cell_type": "code",
   "execution_count": 2,
   "metadata": {
    "collapsed": false
   },
   "outputs": [
    {
     "name": "stdout",
     "output_type": "stream",
     "text": [
      "Requirement already satisfied (use --upgrade to upgrade): beautifulsoup4 in c:\\users\\evgenii\\appdata\\local\\programs\\python\\python35-32\\lib\\site-packages\n",
      "Requirement already satisfied (use --upgrade to upgrade): nltk in c:\\users\\evgenii\\appdata\\local\\programs\\python\\python35-32\\lib\\site-packages\n",
      "Requirement already satisfied (use --upgrade to upgrade): pymorphy2 in c:\\users\\evgenii\\appdata\\local\\programs\\python\\python35-32\\lib\\site-packages\n",
      "Requirement already satisfied (use --upgrade to upgrade): six in c:\\users\\evgenii\\appdata\\local\\programs\\python\\python35-32\\lib\\site-packages (from nltk)\n",
      "Requirement already satisfied (use --upgrade to upgrade): dawg-python>=0.7 in c:\\users\\evgenii\\appdata\\local\\programs\\python\\python35-32\\lib\\site-packages (from pymorphy2)\n",
      "Requirement already satisfied (use --upgrade to upgrade): docopt>=0.6 in c:\\users\\evgenii\\appdata\\local\\programs\\python\\python35-32\\lib\\site-packages (from pymorphy2)\n",
      "Requirement already satisfied (use --upgrade to upgrade): pymorphy2-dicts<3.0,>=2.4 in c:\\users\\evgenii\\appdata\\local\\programs\\python\\python35-32\\lib\\site-packages (from pymorphy2)\n"
     ]
    },
    {
     "name": "stderr",
     "output_type": "stream",
     "text": [
      "You are using pip version 8.1.1, however version 18.0 is available.\n",
      "You should consider upgrading via the 'python -m pip install --upgrade pip' command.\n"
     ]
    }
   ],
   "source": [
    "!pip3 install beautifulsoup4 nltk pymorphy2"
   ]
  },
  {
   "cell_type": "code",
   "execution_count": 51,
   "metadata": {
    "collapsed": false
   },
   "outputs": [
    {
     "name": "stdout",
     "output_type": "stream",
     "text": [
      "tags found: [<p class=\"class1\">This is a paragraph.</p>, <p id=\"id1\">This is a paragraph.</p>, <p>This is a paragraph.</p>]\n",
      "text extracted: 'This is a paragraph. This is a paragraph. This is a paragraph.'\n"
     ]
    },
    {
     "name": "stderr",
     "output_type": "stream",
     "text": [
      "C:\\Users\\Evgenii\\AppData\\Local\\Programs\\Python\\Python36-32\\lib\\site-packages\\bs4\\__init__.py:181: UserWarning: No parser was explicitly specified, so I'm using the best available HTML parser for this system (\"html.parser\"). This usually isn't a problem, but if you run this code on another system, or in a different virtual environment, it may use a different parser and behave differently.\n",
      "\n",
      "The code that caused this warning is on line 193 of the file C:\\Users\\Evgenii\\AppData\\Local\\Programs\\Python\\Python36-32\\lib\\runpy.py. To get rid of this warning, change code that looks like this:\n",
      "\n",
      " BeautifulSoup(YOUR_MARKUP})\n",
      "\n",
      "to this:\n",
      "\n",
      " BeautifulSoup(YOUR_MARKUP, \"html.parser\")\n",
      "\n",
      "  markup_type=markup_type))\n"
     ]
    }
   ],
   "source": [
    "from bs4 import BeautifulSoup\n",
    "\n",
    "html = \"\"\"\n",
    "<!DOCTYPE html>\n",
    "<html>\n",
    "<body>\n",
    "\n",
    "<p class=\"class1\">This is a paragraph.</p>\n",
    "<p id=\"id1\">This is a paragraph.</p>\n",
    "<p>This is a paragraph.</p>\n",
    "\n",
    "</body>\n",
    "</html>\n",
    "\"\"\"\n",
    "\n",
    "bs = BeautifulSoup(html)\n",
    "all_p_tags = bs.find_all(\"p\")\n",
    "print(\"tags found:\", all_p_tags)\n",
    "extracted_text = \" \".join(map(lambda x: x.text, all_p_tags))\n",
    "print(\"text extracted: '{}'\".format(extracted_text))"
   ]
  },
  {
   "cell_type": "code",
   "execution_count": 4,
   "metadata": {
    "collapsed": false
   },
   "outputs": [
    {
     "name": "stdout",
     "output_type": "stream",
     "text": [
      "extracted text: 'This is a paragraph. This is a paragraph. This is a paragraph.'\n",
      "cleaned text: 'This is a paragraph This is a paragraph This is a paragraph'\n"
     ]
    }
   ],
   "source": [
    "import re\n",
    "cleaned_text = re.sub(\"[^a-zA-Z0-9 ]\", \"\", extracted_text)\n",
    "print(\"extracted text: '{}'\".format(extracted_text))\n",
    "print(\"cleaned text: '{}'\".format(cleaned_text))"
   ]
  },
  {
   "cell_type": "code",
   "execution_count": 10,
   "metadata": {
    "collapsed": false
   },
   "outputs": [
    {
     "name": "stdout",
     "output_type": "stream",
     "text": [
      "caresses -> caress\n",
      "flies -> fli\n",
      "dies -> die\n",
      "mules -> mule\n",
      "denied -> deni\n",
      "died -> die\n",
      "agreed -> agre\n",
      "owned -> own\n",
      "humbled -> humbl\n",
      "sized -> size\n",
      "meeting -> meet\n",
      "stating -> state\n",
      "siezing -> siez\n",
      "itemization -> item\n",
      "sensational -> sensat\n",
      "traditional -> tradit\n",
      "reference -> refer\n",
      "colonizer -> colon\n",
      "plotted -> plot\n"
     ]
    }
   ],
   "source": [
    "from nltk.stem import PorterStemmer\n",
    "\n",
    "words = ['caresses', 'flies', 'dies', 'mules', 'denied', 'died', 'agreed', 'owned', \n",
    "         'humbled', 'sized', 'meeting', 'stating', 'siezing', 'itemization', 'sensational', \n",
    "         'traditional', 'reference', 'colonizer', 'plotted']\n",
    "\n",
    "ps = PorterStemmer()\n",
    "for word in words: \n",
    "    print(word, \"->\", ps.stem(word))"
   ]
  },
  {
   "cell_type": "code",
   "execution_count": 58,
   "metadata": {
    "collapsed": false
   },
   "outputs": [
    {
     "name": "stdout",
     "output_type": "stream",
     "text": [
      "[Parse(word='лук', tag=OpencorporaTag('NOUN,inan,femn plur,gent'), normal_form='лука', score=0.3333333333333333, methods_stack=((<DictionaryAnalyzer>, 'лук', 43, 8),)), Parse(word='лук', tag=OpencorporaTag('NOUN,inan,masc sing,nomn'), normal_form='лук', score=0.3333333333333333, methods_stack=((<DictionaryAnalyzer>, 'лук', 330, 0),)), Parse(word='лук', tag=OpencorporaTag('NOUN,inan,masc sing,accs'), normal_form='лук', score=0.3333333333333333, methods_stack=((<DictionaryAnalyzer>, 'лук', 330, 4),))]\n"
     ]
    }
   ],
   "source": [
    "import pymorphy2\n",
    "\n",
    "morph = pymorphy2.MorphAnalyzer()\n",
    "forms = morph.parse(u\"лук\")\n",
    "print(forms)"
   ]
  },
  {
   "cell_type": "code",
   "execution_count": 59,
   "metadata": {
    "collapsed": false
   },
   "outputs": [
    {
     "name": "stdout",
     "output_type": "stream",
     "text": [
      "лука\n",
      "0.3333333333333333\n"
     ]
    }
   ],
   "source": [
    "print(forms[0].normal_form)\n",
    "print(forms[0].score)"
   ]
  },
  {
   "cell_type": "markdown",
   "metadata": {},
   "source": [
    "### Задание\n",
    "\n",
    "С какой вероятностью слово \"стали\" в тексте является формой слова \"сталь\"?"
   ]
  },
  {
   "cell_type": "code",
   "execution_count": 19,
   "metadata": {
    "collapsed": false
   },
   "outputs": [
    {
     "data": {
      "text/html": [
       "<div>\n",
       "<style scoped>\n",
       "    .dataframe tbody tr th:only-of-type {\n",
       "        vertical-align: middle;\n",
       "    }\n",
       "\n",
       "    .dataframe tbody tr th {\n",
       "        vertical-align: top;\n",
       "    }\n",
       "\n",
       "    .dataframe thead th {\n",
       "        text-align: right;\n",
       "    }\n",
       "</style>\n",
       "<table border=\"1\" class=\"dataframe\">\n",
       "  <thead>\n",
       "    <tr style=\"text-align: right;\">\n",
       "      <th></th>\n",
       "      <th>positive</th>\n",
       "      <th>text</th>\n",
       "    </tr>\n",
       "  </thead>\n",
       "  <tbody>\n",
       "    <tr>\n",
       "      <th>0</th>\n",
       "      <td>1</td>\n",
       "      <td>this was the first clive cussler i've ever rea...</td>\n",
       "    </tr>\n",
       "    <tr>\n",
       "      <th>1</th>\n",
       "      <td>1</td>\n",
       "      <td>i liked the Da Vinci Code a lot.</td>\n",
       "    </tr>\n",
       "    <tr>\n",
       "      <th>2</th>\n",
       "      <td>1</td>\n",
       "      <td>i liked the Da Vinci Code a lot.</td>\n",
       "    </tr>\n",
       "    <tr>\n",
       "      <th>3</th>\n",
       "      <td>1</td>\n",
       "      <td>I liked the Da Vinci Code but it ultimatly did...</td>\n",
       "    </tr>\n",
       "    <tr>\n",
       "      <th>4</th>\n",
       "      <td>1</td>\n",
       "      <td>that's not even an exaggeration ) and at midni...</td>\n",
       "    </tr>\n",
       "  </tbody>\n",
       "</table>\n",
       "</div>"
      ],
      "text/plain": [
       "   positive                                               text\n",
       "0         1  this was the first clive cussler i've ever rea...\n",
       "1         1                   i liked the Da Vinci Code a lot.\n",
       "2         1                   i liked the Da Vinci Code a lot.\n",
       "3         1  I liked the Da Vinci Code but it ultimatly did...\n",
       "4         1  that's not even an exaggeration ) and at midni..."
      ]
     },
     "execution_count": 19,
     "metadata": {},
     "output_type": "execute_result"
    }
   ],
   "source": [
    "df = pd.read_csv(\"dataset1.tsv\", sep=\"\\t\")\n",
    "df.head()"
   ]
  },
  {
   "cell_type": "code",
   "execution_count": 20,
   "metadata": {
    "collapsed": false
   },
   "outputs": [
    {
     "data": {
      "text/plain": [
       "<6917x2132 sparse matrix of type '<class 'numpy.int64'>'\n",
       "\twith 65390 stored elements in Compressed Sparse Row format>"
      ]
     },
     "execution_count": 20,
     "metadata": {},
     "output_type": "execute_result"
    }
   ],
   "source": [
    "from sklearn.feature_extraction.text import CountVectorizer\n",
    "\n",
    "\"\"\"\n",
    "Convert a collection of text documents to a matrix of token counts\n",
    "\n",
    "This implementation produces a sparse representation of the counts using\n",
    "scipy.sparse.coo_matrix.\n",
    "\n",
    "Parameters\n",
    "----------\n",
    "input : string {'filename', 'file', 'content'}\n",
    "\n",
    "encoding : string, 'utf-8' by default.\n",
    "\n",
    "analyzer : string, {'word', 'char', 'char_wb'} or callable\n",
    "\n",
    "ngram_range : tuple (min_n, max_n)\n",
    "\n",
    "stop_words : string {'english'}, list, or None (default)\n",
    "\n",
    "max_features : int or None, default=None\n",
    "\"\"\"\n",
    "\n",
    "cv = CountVectorizer(input=\"content\", analyzer=\"word\")\n",
    "BoW_matrix = cv.fit_transform(df.text)\n",
    "BoW_matrix"
   ]
  },
  {
   "cell_type": "code",
   "execution_count": 21,
   "metadata": {
    "collapsed": false
   },
   "outputs": [
    {
     "data": {
      "text/plain": [
       "<6917x2132 sparse matrix of type '<class 'numpy.float64'>'\n",
       "\twith 65390 stored elements in Compressed Sparse Row format>"
      ]
     },
     "execution_count": 21,
     "metadata": {},
     "output_type": "execute_result"
    }
   ],
   "source": [
    "from sklearn.feature_extraction.text import TfidfTransformer\n",
    "\n",
    "\"\"\"\n",
    "Parameters\n",
    "----------\n",
    "norm : 'l1', 'l2' or None, optional\n",
    "\n",
    "use_idf : boolean, default=True\n",
    "\"\"\"\n",
    "\n",
    "tfidfer = TfidfTransformer()\n",
    "tfidfed_matrix = tfidfer.fit_transform(BoW_matrix)\n",
    "tfidfed_matrix"
   ]
  },
  {
   "cell_type": "code",
   "execution_count": 23,
   "metadata": {
    "collapsed": false
   },
   "outputs": [
    {
     "data": {
      "text/plain": [
       "<6917x1048576 sparse matrix of type '<class 'numpy.float64'>'\n",
       "\twith 71991 stored elements in Compressed Sparse Row format>"
      ]
     },
     "execution_count": 23,
     "metadata": {},
     "output_type": "execute_result"
    }
   ],
   "source": [
    "from sklearn.feature_extraction.text import FeatureHasher\n",
    "\n",
    "\"\"\"\n",
    "Parameters\n",
    "----------\n",
    "n_features : integer, optional\n",
    "    The number of features (columns) in the output matrices. Small numbers\n",
    "    of features are likely to cause hash collisions, but large numbers\n",
    "    will cause larger coefficient dimensions in linear learners.\n",
    "input_type : string, optional, default \"dict\"\n",
    "    Either \"dict\" (the default) to accept dictionaries over\n",
    "    (feature_name, value); \"pair\" to accept pairs of (feature_name, value);\n",
    "    or \"string\" to accept single strings.\n",
    "    feature_name should be a string, while value should be a number.\n",
    "    In the case of \"string\", a value of 1 is implied.\n",
    "    The feature_name is hashed to find the appropriate column for the\n",
    "    feature. The value's sign might be flipped in the output (but see\n",
    "    non_negative, below).\n",
    "\"\"\"\n",
    "\n",
    "fh = FeatureHasher(input_type=\"string\")\n",
    "hashed = fh.fit_transform(map(lambda x: x.split(), df.text))\n",
    "hashed"
   ]
  },
  {
   "cell_type": "code",
   "execution_count": 42,
   "metadata": {
    "collapsed": false
   },
   "outputs": [
    {
     "data": {
      "text/html": [
       "<div>\n",
       "<style scoped>\n",
       "    .dataframe tbody tr th:only-of-type {\n",
       "        vertical-align: middle;\n",
       "    }\n",
       "\n",
       "    .dataframe tbody tr th {\n",
       "        vertical-align: top;\n",
       "    }\n",
       "\n",
       "    .dataframe thead th {\n",
       "        text-align: right;\n",
       "    }\n",
       "</style>\n",
       "<table border=\"1\" class=\"dataframe\">\n",
       "  <thead>\n",
       "    <tr style=\"text-align: right;\">\n",
       "      <th></th>\n",
       "      <th>positive</th>\n",
       "      <th>text</th>\n",
       "    </tr>\n",
       "  </thead>\n",
       "  <tbody>\n",
       "    <tr>\n",
       "      <th>0</th>\n",
       "      <td>1</td>\n",
       "      <td>this was the first clive cussler i've ever rea...</td>\n",
       "    </tr>\n",
       "    <tr>\n",
       "      <th>1</th>\n",
       "      <td>1</td>\n",
       "      <td>i liked the Da Vinci Code a lot.</td>\n",
       "    </tr>\n",
       "    <tr>\n",
       "      <th>2</th>\n",
       "      <td>1</td>\n",
       "      <td>i liked the Da Vinci Code a lot.</td>\n",
       "    </tr>\n",
       "    <tr>\n",
       "      <th>3</th>\n",
       "      <td>1</td>\n",
       "      <td>I liked the Da Vinci Code but it ultimatly did...</td>\n",
       "    </tr>\n",
       "    <tr>\n",
       "      <th>4</th>\n",
       "      <td>1</td>\n",
       "      <td>that's not even an exaggeration ) and at midni...</td>\n",
       "    </tr>\n",
       "  </tbody>\n",
       "</table>\n",
       "</div>"
      ],
      "text/plain": [
       "   positive                                               text\n",
       "0         1  this was the first clive cussler i've ever rea...\n",
       "1         1                   i liked the Da Vinci Code a lot.\n",
       "2         1                   i liked the Da Vinci Code a lot.\n",
       "3         1  I liked the Da Vinci Code but it ultimatly did...\n",
       "4         1  that's not even an exaggeration ) and at midni..."
      ]
     },
     "execution_count": 42,
     "metadata": {},
     "output_type": "execute_result"
    }
   ],
   "source": [
    "df = pd.read_csv(\"dataset1.tsv\", sep=\"\\t\")\n",
    "df.head()"
   ]
  },
  {
   "cell_type": "code",
   "execution_count": 43,
   "metadata": {
    "collapsed": true
   },
   "outputs": [],
   "source": [
    "labels = df[\"positive\"]\n",
    "texts = df[\"text\"]"
   ]
  },
  {
   "cell_type": "code",
   "execution_count": 45,
   "metadata": {
    "collapsed": false
   },
   "outputs": [
    {
     "name": "stdout",
     "output_type": "stream",
     "text": [
      "Wall time: 1.5 s\n"
     ]
    }
   ],
   "source": [
    "%%time\n",
    "\n",
    "from nltk.stem import PorterStemmer\n",
    "\n",
    "ps = PorterStemmer()\n",
    "\n",
    "def clean_text(text):\n",
    "    regex = \"[^a-zA-Z0-9 ]\"\n",
    "    cleaned_text = re.sub(regex, \"\", text).lower()\n",
    "    \n",
    "    words = cleaned_text.split()\n",
    "    stemmed_words = []\n",
    "    \n",
    "    for word in words:\n",
    "        stemmed_words.append(ps.stem(word))\n",
    "    \n",
    "    return \" \".join(stemmed_words)\n",
    "\n",
    "texts = texts.apply(clean_text)"
   ]
  },
  {
   "cell_type": "code",
   "execution_count": 46,
   "metadata": {
    "collapsed": false
   },
   "outputs": [],
   "source": [
    "from sklearn.feature_extraction.text import CountVectorizer, TfidfVectorizer\n",
    "\n",
    "vectorizer = ...\n",
    "bow_matrix = vectorizer.fit_transform(texts)"
   ]
  },
  {
   "cell_type": "code",
   "execution_count": 47,
   "metadata": {
    "collapsed": false
   },
   "outputs": [
    {
     "name": "stdout",
     "output_type": "stream",
     "text": [
      "0.9535870773780744\n"
     ]
    }
   ],
   "source": [
    "from sklearn.linear_model import LogisticRegression\n",
    "from sklearn.svm import LinearSVC\n",
    "from sklearn.model_selection import cross_val_score\n",
    "\n",
    "lr = ...\n",
    "\n",
    "print(cross_val_score(lr, bow_matrix, labels, scoring=\"accuracy\").mean())"
   ]
  },
  {
   "cell_type": "markdown",
   "metadata": {},
   "source": [
    "## Резюме\n",
    "\n",
    "- Извлечение текстов с веб-страниц - BeautifulSoup\n",
    "- Удаление пунктуации и прочих символов  - с помощью регулярных выражений\n",
    "- Для английских текстов - стемминг\n",
    "- Для русских текстов - морфология и приведение к начальной форме\n",
    "- Создание признаков с помощью Bag of Words & TF-IDF\n",
    "- Лучше всего использовать линейные модели - они справляются с большим количеством признаков"
   ]
  }
 ],
 "metadata": {
  "kernelspec": {
   "display_name": "Python 3",
   "language": "python",
   "name": "python3"
  },
  "language_info": {
   "codemirror_mode": {
    "name": "ipython",
    "version": 3
   },
   "file_extension": ".py",
   "mimetype": "text/x-python",
   "name": "python",
   "nbconvert_exporter": "python",
   "pygments_lexer": "ipython3",
   "version": "3.6.4"
  }
 },
 "nbformat": 4,
 "nbformat_minor": 1
}
