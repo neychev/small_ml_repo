{
 "cells": [
  {
   "cell_type": "code",
   "execution_count": null,
   "metadata": {
    "collapsed": true
   },
   "outputs": [],
   "source": [
    "import pandas as pd\n",
    "import numpy as np\n",
    "import seaborn as sns\n",
    "import matplotlib.pyplot as plt\n",
    "%matplotlib inline"
   ]
  },
  {
   "cell_type": "markdown",
   "metadata": {},
   "source": [
    "## SVM - Support Vector Machines\n",
    "\n",
    "Идея - построить классификатор с максимальной шириной \"разделяющей полосы\""
   ]
  },
  {
   "cell_type": "markdown",
   "metadata": {},
   "source": [
    "![Image](https://www.analyticsvidhya.com/wp-content/uploads/2015/10/SVM_1.png)"
   ]
  },
  {
   "cell_type": "markdown",
   "metadata": {},
   "source": [
    "Добавим зубодробительной математики"
   ]
  },
  {
   "cell_type": "markdown",
   "metadata": {},
   "source": [
    "![Image](https://wikimedia.org/api/rest_v1/media/math/render/svg/f222f53a3485d840b75c07f9ce831a4d013c8f97)"
   ]
  },
  {
   "cell_type": "markdown",
   "metadata": {},
   "source": [
    "### Сила SVM - в ядрах!\n",
    "\n",
    "Основное преимущество SVM заключается в том, что ядра позволяют решать нелинейные задачи также легко, как и линейные\n",
    "\n",
    "Суть ядер заключается в том, чтобы перевести объекты выборки в новое пространство, где разделяющая плоскость будет уже линейной\n",
    "\n",
    "![Image](http://www.eric-kim.net/eric-kim-net/posts/1/imgs/data_2d_to_3d.png)"
   ]
  },
  {
   "cell_type": "markdown",
   "metadata": {},
   "source": [
    "### Виды ядер\n",
    "\n",
    "- полиномиальное ядро $k(x, x') = (x \\cdot x' + 1)^d$\n",
    "- радиальные базисные функции $k(x, x') = \\exp(-\\gamma||x-x'||^2)$"
   ]
  },
  {
   "cell_type": "code",
   "execution_count": null,
   "metadata": {
    "collapsed": false
   },
   "outputs": [],
   "source": [
    "from sklearn.datasets import make_circles\n",
    "\n",
    "X, y = make_circles(factor=0.5)\n",
    "plt.scatter(X[:, 0], X[:, 1], c=y)"
   ]
  },
  {
   "cell_type": "code",
   "execution_count": null,
   "metadata": {
    "collapsed": false
   },
   "outputs": [],
   "source": [
    "from sklearn.linear_model import LogisticRegression\n",
    "from sklearn.svm import SVC\n",
    "from sklearn.model_selection import cross_val_score\n",
    "\n",
    "print(cross_val_score(LogisticRegression(), X, y, scoring=\"accuracy\", cv=3).mean())\n",
    "print(cross_val_score(SVC(kernel=\"poly\", degree=2), X, y, scoring=\"accuracy\", cv=3).mean())"
   ]
  },
  {
   "cell_type": "markdown",
   "metadata": {},
   "source": [
    "## Рекомендации\n",
    "- Используйте линейные модели в случае, если признаков очень много\n",
    "- Используйте SVM с ядрами в случае нелинейных разделяющих поверхностей"
   ]
  }
 ],
 "metadata": {
  "kernelspec": {
   "display_name": "Python 3",
   "language": "python",
   "name": "python3"
  },
  "language_info": {
   "codemirror_mode": {
    "name": "ipython",
    "version": 3
   },
   "file_extension": ".py",
   "mimetype": "text/x-python",
   "name": "python",
   "nbconvert_exporter": "python",
   "pygments_lexer": "ipython3",
   "version": "3.6.4"
  }
 },
 "nbformat": 4,
 "nbformat_minor": 1
}
