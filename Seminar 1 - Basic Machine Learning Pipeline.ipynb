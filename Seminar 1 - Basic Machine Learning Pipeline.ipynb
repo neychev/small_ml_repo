{
 "cells": [
  {
   "cell_type": "code",
   "execution_count": null,
   "metadata": {
    "collapsed": true
   },
   "outputs": [],
   "source": [
    "import pandas as pd\n",
    "import numpy as np\n",
    "import matplotlib.pyplot as plt\n",
    "import seaborn as sns\n",
    "sns.set_style(\"whitegrid\")\n",
    "%matplotlib inline"
   ]
  },
  {
   "cell_type": "markdown",
   "metadata": {},
   "source": [
    "## План\n",
    "\n",
    "- Базовый конвейер обработки данных\n",
    "  + Чтение данных\n",
    "  + Визуализация, исследовательский анализ данных\n",
    "  + Чистка данных\n",
    "  + Обучение модели\n",
    "- Проверка качества модели\n",
    "  + Отложенная выборка\n",
    "  + KFold\n",
    "- Создание новых признаков"
   ]
  },
  {
   "cell_type": "code",
   "execution_count": null,
   "metadata": {
    "collapsed": false
   },
   "outputs": [],
   "source": [
    "train = pd.read_csv(\"train.csv\")\n",
    "train.head()"
   ]
  },
  {
   "cell_type": "code",
   "execution_count": null,
   "metadata": {
    "collapsed": false
   },
   "outputs": [],
   "source": [
    "train.info()"
   ]
  },
  {
   "cell_type": "code",
   "execution_count": null,
   "metadata": {
    "collapsed": false
   },
   "outputs": [],
   "source": [
    "sns.countplot(train[\"Survived\"])"
   ]
  },
  {
   "cell_type": "markdown",
   "metadata": {},
   "source": [
    "Вопросы: \n",
    "- В каком порту зашло больше всего пассажиров? (seaborn.countplot)\n",
    "- Среди пассажиров, зашедших в порту С, больше выжило или погибло? (seaborn.countplot + параметр `hue`)\n",
    "- Сколько было мужчин и женщин на борту? (pandas.Series.value_counts)\n",
    "- Какая доля мужчин и женщин выжила? (pandas.DataFrame.groupby + mean по колонке Survived)\n",
    "- Влиял ли возраст или цена билета на шанс выжить? (seaborn.stripplot)\n",
    "- Влиял ли класс билета на шана выжить? (seaborn.barplot)"
   ]
  },
  {
   "cell_type": "code",
   "execution_count": null,
   "metadata": {
    "collapsed": true
   },
   "outputs": [],
   "source": [
    "<ваш код>"
   ]
  },
  {
   "cell_type": "markdown",
   "metadata": {},
   "source": [
    "### Избавимся от ненужных переменных и почистим данные"
   ]
  },
  {
   "cell_type": "code",
   "execution_count": null,
   "metadata": {
    "collapsed": false
   },
   "outputs": [],
   "source": [
    "train = pd.read_csv(\"train.csv\")\n",
    "\n",
    "columns_to_drop = [\"Ticket\", \"PassengerId\", \"Name\", \"Cabin\"]\n",
    "\n",
    "train.drop(columns_to_drop, axis=1, inplace=True)\n",
    "\n",
    "train[\"Sex\"] = (train[\"Sex\"] == \"female\").astype(int)\n",
    "train[\"Embarked\"] = train[\"Embarked\"].map({\"S\":0, \"C\":1, \"Q\":2})\n",
    "\n",
    "train.fillna(-1, inplace=True)\n",
    "\n",
    "labels = train[\"Survived\"]\n",
    "train.drop(\"Survived\", axis=1, inplace=True)"
   ]
  },
  {
   "cell_type": "markdown",
   "metadata": {},
   "source": [
    "### Построим первую модель!"
   ]
  },
  {
   "cell_type": "code",
   "execution_count": null,
   "metadata": {
    "collapsed": false
   },
   "outputs": [],
   "source": [
    "from sklearn.neighbors import KNeighborsClassifier\n",
    "\n",
    "knn = KNeighborsClassifier()\n",
    "knn.fit(train, labels)"
   ]
  },
  {
   "cell_type": "markdown",
   "metadata": {},
   "source": [
    "### Проверка качества"
   ]
  },
  {
   "cell_type": "markdown",
   "metadata": {},
   "source": [
    "- Hold-out выборка: [sklearn.model_selection.train_test_split](http://scikit-learn.org/stable/modules/generated/sklearn.model_selection.train_test_split.html)\n",
    "- K-Fold валидация [sklearn.model_selection.KFold](http://scikit-learn.org/stable/modules/generated/sklearn.model_selection.KFold.html)"
   ]
  },
  {
   "cell_type": "code",
   "execution_count": null,
   "metadata": {
    "collapsed": false
   },
   "outputs": [],
   "source": [
    "from sklearn.model_selection import train_test_split\n",
    "from sklearn.metrics import accuracy_score\n",
    "\n",
    "Xtrain, Xtest, ytrain, ytest = ...\n",
    "<обучить модель на Xtrain, ytrain>\n",
    "predictions = ...\n",
    "print(accuracy_score(ytest, predictions))"
   ]
  },
  {
   "cell_type": "code",
   "execution_count": null,
   "metadata": {
    "collapsed": false
   },
   "outputs": [],
   "source": [
    "from sklearn.model_selection import cross_val_score\n",
    "\n"
   ]
  },
  {
   "cell_type": "markdown",
   "metadata": {},
   "source": [
    "### Придумаем новые признаки"
   ]
  },
  {
   "cell_type": "code",
   "execution_count": null,
   "metadata": {
    "collapsed": false
   },
   "outputs": [],
   "source": [
    "train_new_features = train.copy()\n"
   ]
  },
  {
   "cell_type": "code",
   "execution_count": null,
   "metadata": {
    "collapsed": false
   },
   "outputs": [],
   "source": [
    "print(cross_val_score(knn, train, labels, scoring=\"accuracy\").mean())\n",
    "print(cross_val_score(knn, train_new_features, labels, scoring=\"accuracy\").mean())"
   ]
  },
  {
   "cell_type": "markdown",
   "metadata": {},
   "source": [
    "## Рекомендации\n",
    "\n",
    "- Создайте сначала базовый конвейер с очень простой моделью и постепенно его улучшайте\n",
    "- Важно правильно настроить валидацию\n",
    "- Визуализация помогает лучше понять данные и проверить гипотезы\n",
    "- После настройки базового конвейера - постепенно улучшайте модель\n",
    "- Создание новых признаков требует экспертизы в предметной области и творческой жилки"
   ]
  },
  {
   "cell_type": "markdown",
   "metadata": {},
   "source": [
    "## Резюме\n",
    "\n",
    "- Базовый конвейер обработки данных:\n",
    "  - Загрузка\n",
    "  - Визуализация/исследовательский анализ данных\n",
    "  - Построение базовой модели\n",
    "- Настройка валидации модели\n",
    "  - Отложенная выборка\n",
    "  - KFold\n",
    "- Итерационное улучшение\n",
    "  - подбор параметров (тюнинг)\n",
    "  - создание новых признаков (feature engineering)"
   ]
  }
 ],
 "metadata": {
  "kernelspec": {
   "display_name": "Python 3",
   "language": "python",
   "name": "python3"
  },
  "language_info": {
   "codemirror_mode": {
    "name": "ipython",
    "version": 3
   },
   "file_extension": ".py",
   "mimetype": "text/x-python",
   "name": "python",
   "nbconvert_exporter": "python",
   "pygments_lexer": "ipython3",
   "version": "3.6.4"
  }
 },
 "nbformat": 4,
 "nbformat_minor": 1
}
