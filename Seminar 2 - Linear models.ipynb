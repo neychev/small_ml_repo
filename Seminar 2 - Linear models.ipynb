{
 "cells": [
  {
   "cell_type": "code",
   "execution_count": null,
   "metadata": {
    "collapsed": true
   },
   "outputs": [],
   "source": [
    "import pandas as pd\n",
    "import numpy as np\n",
    "import matplotlib.pyplot as plt\n",
    "%matplotlib inline\n",
    "import seaborn as sns"
   ]
  },
  {
   "cell_type": "markdown",
   "metadata": {},
   "source": [
    "## План\n",
    "\n",
    "- Подготовка данных для линейных моделей\n",
    "  + Текст -> числа\n",
    "  + Пропуски в данных\n",
    "  + Категориальные переменные\n",
    "- Обучение линейных моделей\n",
    "- Регуляризация\n",
    "- Масштабирование признаков\n",
    "- Особенности SVM\n",
    "\n"
   ]
  },
  {
   "cell_type": "code",
   "execution_count": null,
   "metadata": {
    "collapsed": false
   },
   "outputs": [],
   "source": [
    "data = pd.read_csv(\"train.csv\")\n",
    "\n",
    "labels = data[\"Survived\"]\n",
    "\n",
    "columns_to_drop = [\"PassengerId\", \"Survived\", \"Ticket\", \"Cabin\", \"Name\"]\n",
    "data.drop(columns_to_drop, axis=1, inplace=True)"
   ]
  },
  {
   "cell_type": "markdown",
   "metadata": {},
   "source": [
    "### Преобразование текстовых признаков в числовые\n",
    "\n",
    "Многие методы машинного обучения полагаются на то, что все признаки являются числами, которые можно складывать, вычитать и сравнивать. Поэтому важно преобразовать строковые признаки в числовые\n",
    "\n",
    "Найдите какие признаки являются строковыми и преобразуйте их в числовые"
   ]
  },
  {
   "cell_type": "code",
   "execution_count": null,
   "metadata": {
    "collapsed": false
   },
   "outputs": [],
   "source": [
    "data.head(10)"
   ]
  },
  {
   "cell_type": "code",
   "execution_count": null,
   "metadata": {
    "collapsed": false
   },
   "outputs": [],
   "source": [
    "<ваш код>"
   ]
  },
  {
   "cell_type": "code",
   "execution_count": null,
   "metadata": {
    "collapsed": false
   },
   "outputs": [],
   "source": [
    "assert all(data.dtypes != object), \"В датасете присутствуют строковые признаки!\""
   ]
  },
  {
   "cell_type": "markdown",
   "metadata": {},
   "source": [
    "### Избавление от пропусков в данных\n",
    "\n",
    "Также многие методы не умеют работать с пропусками в данных, когда значение признака у какого-то объекта равно NaN, как например возраст в 5 строчке. \n",
    "\n",
    "Для заполнения пропусков существует несколько способов:\n",
    "- заполнить константой, например -1\n",
    "- заполнить средним значением по колонке\n",
    "\n",
    "Для первого способа удобно использовать метод fillna"
   ]
  },
  {
   "cell_type": "code",
   "execution_count": null,
   "metadata": {
    "collapsed": false,
    "scrolled": true
   },
   "outputs": [],
   "source": [
    "data.head(10)"
   ]
  },
  {
   "cell_type": "code",
   "execution_count": null,
   "metadata": {
    "collapsed": false
   },
   "outputs": [],
   "source": [
    "data.isnull().any()"
   ]
  },
  {
   "cell_type": "code",
   "execution_count": null,
   "metadata": {
    "collapsed": false
   },
   "outputs": [],
   "source": [
    "<ваш код>"
   ]
  },
  {
   "cell_type": "code",
   "execution_count": null,
   "metadata": {
    "collapsed": false
   },
   "outputs": [],
   "source": [
    "assert not data.isnull().any().any(), \"В данных присутствуют пропуски!\""
   ]
  },
  {
   "cell_type": "markdown",
   "metadata": {},
   "source": [
    "### Преобразование категориальных признаков: one-hot encoding\n",
    "\n",
    "Еще одна проблема с признаками связана с категориальными переменными: город, страна, тип автомобиля. Методы машинного обучения полагаются на числовую природу признаков - что их можно складывать или вычитать. Однако даже если закодировать города Москва = 1, Санкт-Петербург = 2, Пермь = 3, то это не будет означать, что Москва + Санкт-Петербург = Пермь. \n",
    "\n",
    "С этим можно бороться с помощью преобразования 1 категориального признака в множество признаков-индикаторов, \"Город==Москва?\", \"Город==Санкт-Петербург?\"."
   ]
  },
  {
   "cell_type": "code",
   "execution_count": null,
   "metadata": {
    "collapsed": false
   },
   "outputs": [],
   "source": [
    "<ваш код>"
   ]
  },
  {
   "cell_type": "markdown",
   "metadata": {},
   "source": [
    "## Линейные модели\n",
    "\n",
    "### Линейная регрессия\n",
    "\n",
    "$a(x) = w_1 * x_1 + w_2 * x_2 + \\dots + w_n * x_n = <w, x>$ \n",
    "\n",
    "[sklearn.linear_model.LinearRegression](http://scikit-learn.org/stable/modules/generated/sklearn.linear_model.LinearRegression.html)\n",
    "\n",
    "### Линейный классификатор - логистическая регрессия\n",
    "$a(x) = \\sigma(<w, x>) = \\dfrac{1}{1 + e^{-<w, x>}}$\n",
    "\n",
    "\n",
    "[sklearn.linear_model.LogisticRegression](http://scikit-learn.org/stable/modules/generated/sklearn.linear_model.LogisticRegression.html)\n",
    "\n",
    "### Линейный классификатор - SVM (Support Vector Machine)\n",
    "$a(x) = sign(w_1 * x_1 + w_2 * x_2 + \\dots + w_n * x_n) = sign(<w, x>)$ \n",
    "\n",
    "\n",
    "[sklearn.svm.SVC](http://scikit-learn.org/stable/modules/generated/sklearn.svm.SVC.html)"
   ]
  },
  {
   "cell_type": "code",
   "execution_count": null,
   "metadata": {
    "collapsed": false
   },
   "outputs": [],
   "source": [
    "model = ...\n",
    "\n",
    "model.fit(data_encoded, labels)"
   ]
  },
  {
   "cell_type": "code",
   "execution_count": null,
   "metadata": {
    "collapsed": false,
    "scrolled": true
   },
   "outputs": [],
   "source": [
    "from sklearn.model_selection import cross_val_score\n",
    "\n",
    "cross_val_score(model, data_encoded, labels, scoring=\"accuracy\", cv=3).mean()"
   ]
  },
  {
   "cell_type": "markdown",
   "metadata": {},
   "source": [
    "### Регуляризация\n",
    "\n",
    "$a(x) = w_1 * x_1 + w_2 * x_2 + \\dots + w_n * x_n = <w, x>$ \n",
    "\n",
    "Функция потерь:\n",
    "\\begin{equation}\n",
    "L(x, y, w) = \\sum\\limits_{i = 1}^{n} \\left(<w, x_i> - y_i\\right)^2\n",
    "\\end{equation}\n",
    "Чтобы модель меньше переобучалась, часто добавляют регуляризатор - дополнительный член в функцию потерь\n",
    "\n",
    "\\begin{equation}\n",
    "L_2: L(x, y, w) = \\sum\\limits_{i = 1}^{n} \\left(<w, x_i> - y_i\\right)^2 + \\sum\\limits_{i=1}^{n} w_i^2 \n",
    "\\end{equation}\n",
    "\\begin{equation}\n",
    "L_1: L(x, y, w) = \\sum\\limits_{i = 1}^{n} \\left(<w, x_i> - y_i\\right)^2 + \\sum\\limits_{i=1}^{n} |w_i|\n",
    "\\end{equation}"
   ]
  },
  {
   "cell_type": "markdown",
   "metadata": {},
   "source": [
    "### Линейная регрессия: \n",
    "\n",
    "- Без регуляризации: [sklearn.linear_model.LinearRegression](http://scikit-learn.org/stable/modules/generated/sklearn.linear_model.LinearRegression.html)\n",
    "- $L_1$ регуляризация: [sklearn.linear_model.Lasso](http://scikit-learn.org/stable/modules/generated/sklearn.linear_model.Lasso.html)\n",
    "- $L_2$ регуляризация: [sklearn.linear_model.Ridge](http://scikit-learn.org/stable/modules/generated/sklearn.linear_model.Ridge.html)\n",
    "\n",
    "### Логистическая регрессия: \n",
    "\n",
    "Параметр `penalty` у [sklearn.linear_model.LogisticRegression](http://scikit-learn.org/stable/modules/generated/sklearn.linear_model.LogisticRegression.html)"
   ]
  },
  {
   "cell_type": "code",
   "execution_count": null,
   "metadata": {
    "collapsed": true
   },
   "outputs": [],
   "source": [
    "from sklearn.datasets import load_boston\n",
    "\n",
    "X, y = load_boston(True)"
   ]
  },
  {
   "cell_type": "code",
   "execution_count": null,
   "metadata": {
    "collapsed": false
   },
   "outputs": [],
   "source": [
    "from sklearn.model_selection import cross_val_score\n",
    "\n",
    "lr = ...\n",
    "\n",
    "cross_val_score(lr, X, y, scoring=\"neg_mean_squared_error\", cv=3).mean()"
   ]
  },
  {
   "cell_type": "markdown",
   "metadata": {},
   "source": [
    "## Масштабирование признаков\n",
    "\n",
    "При использовании регуляризации часто возникает такая проблема: если признаки имеют разный масштаб, то модель начинает обучаться гораздо хуже"
   ]
  },
  {
   "cell_type": "markdown",
   "metadata": {},
   "source": [
    "### Методы масштабирования признаков\n",
    "\n",
    "- нормализация в $\\mathcal{N}(0, 1)$: [sklearn.preprocessing.scale](http://scikit-learn.org/stable/modules/generated/sklearn.preprocessing.scale.html)\n",
    "- MinMax масштабирование - в промежуток [0, 1]: [sklearn.preprocessing.minmax_scale](http://scikit-learn.org/stable/modules/generated/sklearn.preprocessing.minmax_scale.html)\n",
    "- MaxAbs масштабирование - в промежуток [-1, 1]: [sklearn.preprocessing.maxabs_scale](http://scikit-learn.org/stable/modules/generated/sklearn.preprocessing.maxabs_scale.html)"
   ]
  },
  {
   "cell_type": "code",
   "execution_count": null,
   "metadata": {
    "collapsed": false,
    "scrolled": true
   },
   "outputs": [],
   "source": [
    "X_scaled = ...\n",
    "print(\"Без масштабирования\", cross_val_score(lr, X, y, scoring=\"neg_mean_squared_error\", cv=3).mean())\n",
    "print(\"C масштабированием\", cross_val_score(lr, X_scaled, y, scoring=\"neg_mean_squared_error\", cv=3).mean())"
   ]
  },
  {
   "cell_type": "markdown",
   "metadata": {},
   "source": [
    "### Сила SVM - в ядрах!\n",
    "\n",
    "Основное преимущество SVM заключается в том, что ядра позволяют решать нелинейные задачи также легко, как и линейные\n",
    "\n",
    "Суть ядер заключается в том, чтобы перевести объекты выборки в новое пространство, где разделяющая плоскость будет уже линейной\n",
    "\n",
    "![Image](http://www.eric-kim.net/eric-kim-net/posts/1/imgs/data_2d_to_3d.png)"
   ]
  },
  {
   "cell_type": "code",
   "execution_count": null,
   "metadata": {
    "collapsed": false
   },
   "outputs": [],
   "source": [
    "from sklearn.datasets import make_circles\n",
    "\n",
    "X, y = make_circles(factor=0.5)\n",
    "plt.scatter(X[:, 0], X[:, 1], c=y)"
   ]
  },
  {
   "cell_type": "code",
   "execution_count": null,
   "metadata": {
    "collapsed": false
   },
   "outputs": [],
   "source": [
    "print(cross_val_score(LogisticRegression(), X, y, scoring=\"accuracy\", cv=3).mean())\n",
    "print(cross_val_score(SVC(kernel=\"poly\", degree=2), X, y, scoring=\"accuracy\", cv=3).mean())"
   ]
  },
  {
   "cell_type": "markdown",
   "metadata": {},
   "source": [
    "## Рекомендации\n",
    "- Подготавливайте признаки для линейных моделей - так можно получить более качественную модель\n",
    "- Следите за масштабом признаков и нормализуйте их - как в линейных моделях, так и в нейронных сетях\n",
    "- Подбирайте оптимальный коэффициент регуляризации для снижения переобучения\n",
    "- Используйте линейные модели в случае, если признаков очень много\n",
    "- Используйте SVM с ядрами в случае нелинейных разделяющих поверхностей"
   ]
  },
  {
   "cell_type": "markdown",
   "metadata": {},
   "source": [
    "## Заключение\n",
    "\n",
    "Сегодня мы научились:\n",
    "- Подготавливать признаки для линейных моделей\n",
    "  - переводить строковые признаки в числовые\n",
    "  - убирать пропуски\n",
    "  - обрабатывать категориальные переменные\n",
    "- Обучать различные линейные модели\n",
    "  - SVM\n",
    "  - линейная регрессия\n",
    "  - логистическая регрессия\n",
    "- Добавлять регуляризацию и масштабировать признаки"
   ]
  }
 ],
 "metadata": {
  "kernelspec": {
   "display_name": "Python 3",
   "language": "python",
   "name": "python3"
  },
  "language_info": {
   "codemirror_mode": {
    "name": "ipython",
    "version": 3
   },
   "file_extension": ".py",
   "mimetype": "text/x-python",
   "name": "python",
   "nbconvert_exporter": "python",
   "pygments_lexer": "ipython3",
   "version": "3.6.4"
  }
 },
 "nbformat": 4,
 "nbformat_minor": 1
}
